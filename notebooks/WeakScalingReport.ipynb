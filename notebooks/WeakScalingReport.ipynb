{
 "cells": [
  {
   "cell_type": "code",
   "execution_count": 9,
   "metadata": {},
   "outputs": [
    {
     "name": "stdout",
     "output_type": "stream",
     "text": [
      "Generated on 2018-02-10 on lyelaptop\n"
     ]
    }
   ],
   "source": [
    "from numpy import *\n",
    "import matplotlib\n",
    "%matplotlib inline\n",
    "import matplotlib.pyplot as plt\n",
    "import glob\n",
    "import tools\n",
    "\n",
    "import datetime\n",
    "import socket\n",
    "print(\"Generated on %s on %s\" % (datetime.date.today(), socket.gethostname()))"
   ]
  },
  {
   "cell_type": "markdown",
   "metadata": {},
   "source": [
    "# Kelvin-Helmholtz\n",
    "\n",
    "We run the Kelvin-Helmholtz instability for different resolutions"
   ]
  },
  {
   "cell_type": "code",
   "execution_count": 4,
   "metadata": {},
   "outputs": [
    {
     "name": "stdout",
     "output_type": "stream",
     "text": [
      "core_counts['multix'] = [1, 4, 16, 64, 256, 1024]\n",
      "runtimes['multix'] = [0, 1, 2, 4, 8, 16]\n",
      "runtimes_per_timestep['multix'] = [0.0, 0.001953125, 0.001953125, 0.001953125, 0.001953125, 0.001953125]\n",
      "\n",
      "core_counts['multiy'] = [1, 4, 16, 64, 256, 1024]\n",
      "runtimes['multiy'] = [0, 1, 2, 4, 8, 16]\n",
      "runtimes_per_timestep['multiy'] = [0.0, 0.001953125, 0.001953125, 0.001953125, 0.001953125, 0.001953125]\n",
      "\n",
      "core_counts['multixmultiy'] = [1, 4, 16, 64, 256, 1024]\n",
      "runtimes['multixmultiy'] = [0, 1, 2, 4, 8, 16]\n",
      "runtimes_per_timestep['multixmultiy'] = [0.0, 0.001953125, 0.001953125, 0.001953125, 0.001953125, 0.001953125]\n",
      "\n",
      "Git revision: d8b067b831704c6b510ef0e85382e3612497bdc6\n"
     ]
    },
    {
     "data": {
      "image/png": "[encoded data removed]",
      "text/plain": [
       "<matplotlib.figure.Figure at 0x7fcd436684a8>"
      ]
     },
     "metadata": {},
     "output_type": "display_data"
    },
    {
     "data": {
      "image/png": "[encoded data removed]",
      "text/plain": [
       "<matplotlib.figure.Figure at 0x7fcd4111c6d8>"
      ]
     },
     "metadata": {},
     "output_type": "display_data"
    },
    {
     "name": "stdout",
     "output_type": "stream",
     "text": [
      "revisions= ['d8b067b831704c6b510ef0e85382e3612497bdc6', 'd8b067b831704c6b510ef0e85382e3612497bdc6', 'd8b067b831704c6b510ef0e85382e3612497bdc6', 'd8b067b831704c6b510ef0e85382e3612497bdc6', 'd8b067b831704c6b510ef0e85382e3612497bdc6', 'd8b067b831704c6b510ef0e85382e3612497bdc6', 'd8b067b831704c6b510ef0e85382e3612497bdc6', 'd8b067b831704c6b510ef0e85382e3612497bdc6', 'd8b067b831704c6b510ef0e85382e3612497bdc6', 'd8b067b831704c6b510ef0e85382e3612497bdc6', 'd8b067b831704c6b510ef0e85382e3612497bdc6', 'd8b067b831704c6b510ef0e85382e3612497bdc6', 'd8b067b831704c6b510ef0e85382e3612497bdc6', 'd8b067b831704c6b510ef0e85382e3612497bdc6', 'd8b067b831704c6b510ef0e85382e3612497bdc6', 'd8b067b831704c6b510ef0e85382e3612497bdc6', 'd8b067b831704c6b510ef0e85382e3612497bdc6', 'd8b067b831704c6b510ef0e85382e3612497bdc6']\n",
      "\n",
      "build_types: ['Release', 'Release', 'Release', 'Release', 'Release', 'Release', 'Release', 'Release', 'Release', 'Release', 'Release', 'Release', 'Release', 'Release', 'Release', 'Release', 'Release', 'Release']\n"
     ]
    }
   ],
   "source": [
    "setups=['multix', 'multiy', 'multixmultiy']\n",
    "build_types = []\n",
    "revisions = []\n",
    "for setup in setups:\n",
    "    basename = '../runs/{setup}/2d/weak_scaling/kelvinhelmholtz_{N}/alsuqcli_kh_{N}_report.json'\n",
    "    \n",
    "    resolutions = [256, 512, 1024, 2048, 4096, 8192]\n",
    "    runtimes = []\n",
    "    runtimes_per_timestep = []\n",
    "    core_counts = []\n",
    "    for resolution in resolutions:\n",
    "        report = basename.format(N=resolution, setup = setup)\n",
    "        \n",
    "        git_revision = tools.get_revision(report)\n",
    "        revisions.append(git_revision)\n",
    "        build_types.append(tools.get_build_type(report))\n",
    "        runtime = tools.get_runtime(report)\n",
    "        runtimes.append(runtime)\n",
    "        \n",
    "        cores = tools.get_total_cores(report)\n",
    "        core_counts.append(cores)\n",
    "        \n",
    "        timesteps = tools.get_timesteps(report)\n",
    "        runtimes_per_timestep.append(float(runtime)/timesteps)\n",
    "    plt.figure(0)\n",
    "    plt.title(\"Runtime\")\n",
    "    plt.loglog(core_counts, runtimes, '-o',label=setup)\n",
    "    plt.xlabel('Number of cores')\n",
    "    plt.ylabel('Runtime (ms)')\n",
    "    ax = plt.gca()\n",
    "    ax.legend(loc='center left', bbox_to_anchor=(1, 0.5))\n",
    "\n",
    "    \n",
    "    plt.figure(1)\n",
    "    plt.title(\"Runtime per timestep\")\n",
    "    plt.loglog(core_counts, runtimes_per_timestep, '-o',label=setup)\n",
    "    plt.xlabel('Number of cores')\n",
    "    plt.ylabel('Runtime per timestep (ms)')\n",
    "    \n",
    "    ax = plt.gca()\n",
    "    ax.legend(loc='center left', bbox_to_anchor=(1, 0.5))\n",
    "    \n",
    "    print(\"core_counts['%s'] = %s\" % (setup, core_counts))\n",
    "    print(\"runtimes['%s'] = %s\" % (setup, runtimes))\n",
    "    print(\"runtimes_per_timestep['%s'] = %s\" % (setup, runtimes_per_timestep))\n",
    "    print(\"\")\n",
    "print(\"Git revision: %s\" % git_revision )\n",
    "plt.show()\n",
    "print(\"revisions= %s\" % revisions)\n",
    "print()\n",
    "print(\"build_types: %s\" % build_types)"
   ]
  },
  {
   "cell_type": "code",
   "execution_count": 5,
   "metadata": {
    "collapsed": true
   },
   "outputs": [],
   "source": [
    "import os\n",
    "cmakeCache = '../alsvinn/build/CMakeCache.txt'\n",
    "if os.path.exists(cmakeCache):\n",
    "    with open(cmakeCache, 'r') as f:\n",
    "        print(f.read())"
   ]
  },
  {
   "cell_type": "code",
   "execution_count": null,
   "metadata": {
    "collapsed": true
   },
   "outputs": [],
   "source": []
  }
 ],
 "metadata": {
  "kernelspec": {
   "display_name": "Python 3",
   "language": "python",
   "name": "python3"
  },
  "language_info": {
   "codemirror_mode": {
    "name": "ipython",
    "version": 3
   },
   "file_extension": ".py",
   "mimetype": "text/x-python",
   "name": "python",
   "nbconvert_exporter": "python",
   "pygments_lexer": "ipython3",
   "version": "3.6.4"
  }
 },
 "nbformat": 4,
 "nbformat_minor": 2
}
